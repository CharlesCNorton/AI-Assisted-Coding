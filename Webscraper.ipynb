{
  "nbformat": 4,
  "nbformat_minor": 0,
  "metadata": {
    "colab": {
      "provenance": [],
      "authorship_tag": "ABX9TyMStPDJOtVyJ77yfggoqBsy"
    },
    "kernelspec": {
      "name": "python3",
      "display_name": "Python 3"
    },
    "language_info": {
      "name": "python"
    }
  },
  "cells": [
    {
      "cell_type": "code",
      "execution_count": 13,
      "metadata": {
        "colab": {
          "base_uri": "https://localhost:8080/"
        },
        "id": "U-jm0TIqlN4M",
        "outputId": "7d13c014-6c5f-4416-8a0e-439dfa061368"
      },
      "outputs": [
        {
          "output_type": "stream",
          "name": "stdout",
          "text": [
            "Enter the URL of the website: https://www.isitchristmas.com\n",
            "Is it Christmas?\n",
            "NO\n",
            "by @konklone\n",
            "on IFTTT\n",
            "on XKCD?!\n",
            "console\n"
          ]
        }
      ],
      "source": [
        "# SimpleScraper - This program scrapes a website and displays it in clean text.\n",
        "# This code was created with Google Bard on 2023-06-08 08:29:31 PST.\n",
        "\n",
        "\"\"\"\n",
        "Welcome to SimpleScraper!\n",
        "\"\"\"\n",
        "\n",
        "import requests\n",
        "\n",
        "def render_website(url):\n",
        "    response = requests.get(url)\n",
        "    soup = BeautifulSoup(response.content, \"html.parser\")\n",
        "    text = soup.get_text()\n",
        "    text = text.replace('&lt;', '<').replace('&gt;', '>')\n",
        "    text = text.strip()\n",
        "    lines = text.split('\\n')\n",
        "    for line in lines:\n",
        "        if line:\n",
        "            print(line.rstrip())\n",
        "\n",
        "if __name__ == \"__main__\":\n",
        "    url = input(\"Enter the URL of the website: \")\n",
        "    render_website(url)"
      ]
    }
  ]
}